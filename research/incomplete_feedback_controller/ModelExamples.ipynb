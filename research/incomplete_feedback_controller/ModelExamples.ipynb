{
 "cells": [
  {
   "cell_type": "markdown",
   "metadata": {},
   "source": [
    "# Imports"
   ]
  },
  {
   "cell_type": "code",
   "execution_count": 1,
   "metadata": {},
   "outputs": [],
   "source": [
    "from collections import OrderedDict"
   ]
  },
  {
   "cell_type": "code",
   "execution_count": 2,
   "metadata": {},
   "outputs": [],
   "source": [
    "import multiprocessing as mp"
   ]
  },
  {
   "cell_type": "code",
   "execution_count": 3,
   "metadata": {},
   "outputs": [],
   "source": [
    "import numpy as np\n",
    "import pandas as pd\n",
    "\n",
    "from scipy.integrate import solve_ivp"
   ]
  },
  {
   "cell_type": "markdown",
   "metadata": {},
   "source": [
    "# Model Imports"
   ]
  },
  {
   "cell_type": "code",
   "execution_count": 4,
   "metadata": {},
   "outputs": [],
   "source": [
    "from models import Model_1\n",
    "from models import Model_2\n",
    "from models import Model_3\n",
    "from models import Model_4"
   ]
  },
  {
   "cell_type": "markdown",
   "metadata": {},
   "source": [
    "# Auxiliary Functions"
   ]
  },
  {
   "cell_type": "code",
   "execution_count": 5,
   "metadata": {},
   "outputs": [],
   "source": [
    "from cybernetics.controls.piecewise_constant_controller import PiecewiseConstantController as PWC_Controller\n",
    "from cybernetics.controls.piecewise_linear_controller import PiecewiseLinearController as PWL_Controller"
   ]
  },
  {
   "cell_type": "code",
   "execution_count": 6,
   "metadata": {},
   "outputs": [],
   "source": [
    "def create_PWC(time_grid, control_settings):\n",
    "    return PWC_Controller(time_grid, control_settings, default_value=0.0)\n",
    "\n",
    "def create_PWL(time_grid, control_settings):\n",
    "    return PWL_Controller(time_grid, control_settings, default_value=0.0)"
   ]
  },
  {
   "cell_type": "code",
   "execution_count": 7,
   "metadata": {},
   "outputs": [],
   "source": [
    "def create_task(model_id, controller_type, n_dim, bound, initial_state):\n",
    "    if model_id == 1:\n",
    "        model = lambda control: Model_1(control)\n",
    "    elif model_id == 2:\n",
    "        model = lambda control: Model_2(control)\n",
    "    elif model_id == 3:\n",
    "        model = lambda control: Model_3(control)\n",
    "    elif model_id == 4:\n",
    "        model = lambda control: Model_4(control)\n",
    "    else:\n",
    "        raise Exception(f\"Unsupported model: {model_id}\")\n",
    "    \n",
    "    temp_model = model(None)\n",
    "    time_grid = np.linspace(temp_model.t0, temp_model.t1, n_dim + 1)\n",
    "    accurate_time_grid = np.linspace(temp_model.t0, temp_model.t1, 10 * n_dim + 1)\n",
    "    search_area = [(-bound, bound) for i in range(n_dim + int(controller_type == \"PWL\"))]\n",
    "    \n",
    "    if controller_type == \"PWC\":\n",
    "        controller = lambda control_settings: create_PWC(time_grid, control_settings)\n",
    "    elif controller_type == \"PWL\":\n",
    "        controller = lambda control_settings: create_PWL(time_grid, control_settings)\n",
    "    else:\n",
    "        raise Exception(f\"Unsupported controller type: {controller_type}\")\n",
    "    \n",
    "    def f(control_settings):\n",
    "        control = controller(control_settings)\n",
    "        m = model(control)\n",
    "        sol = m.calc_solution(initial_state)\n",
    "        return m.I(sol) + m.I_term(sol)\n",
    "    \n",
    "    def make_dataframe(control_settings):\n",
    "        control = controller(control_settings)\n",
    "        m = model(control)\n",
    "        sol = m.calc_solution(initial_state, accurate_time_grid)\n",
    "        controls = m.get_controls(sol)[:-1]\n",
    "        \n",
    "        rows = list()\n",
    "        for t, y, u in list(zip(sol.t, sol.y[:-1, :].T, controls)):\n",
    "            o = OrderedDict(t=t)\n",
    "            for i, y_ in enumerate(initial_state):\n",
    "                o[f\"x{i + 1}_initial\"] = y_\n",
    "            for i, y_ in enumerate(y):\n",
    "                o[f\"x{i + 1}\"] = y_\n",
    "            o[\"u\"] = u\n",
    "            o[\"t\"] = t\n",
    "            rows.append(o)\n",
    "\n",
    "        df = pd.DataFrame(rows)\n",
    "        return df\n",
    "        \n",
    "    \n",
    "    return f, search_area, make_dataframe\n"
   ]
  },
  {
   "cell_type": "markdown",
   "metadata": {},
   "source": [
    "# Optimization Tool Parameters"
   ]
  },
  {
   "cell_type": "code",
   "execution_count": 8,
   "metadata": {},
   "outputs": [],
   "source": [
    "from osol.extremum.algorithms.statistical_anti_gradient_random_search import StatisticalAntiGradientRandomSearch as SAG_RS"
   ]
  },
  {
   "cell_type": "code",
   "execution_count": 9,
   "metadata": {},
   "outputs": [],
   "source": [
    "sag_rs_radius = 1.0\n",
    "sag_rs_number_of_samples = 17"
   ]
  },
  {
   "cell_type": "markdown",
   "metadata": {},
   "source": [
    "# Model Example №1"
   ]
  },
  {
   "cell_type": "code",
   "execution_count": 10,
   "metadata": {},
   "outputs": [],
   "source": [
    "initials_1 = [[v] for v in np.linspace(-25.0, 25.0, 51)]"
   ]
  },
  {
   "cell_type": "code",
   "execution_count": 11,
   "metadata": {},
   "outputs": [],
   "source": [
    "def calc_1(initial_value):\n",
    "    n_dim = 10\n",
    "    bound = 100\n",
    "    working_time = 60 * 30\n",
    "    \n",
    "    f, search_area, make_dataframe = create_task(\n",
    "        model_id=1, \n",
    "        controller_type=\"PWL\", \n",
    "        n_dim=n_dim, \n",
    "        bound=bound,\n",
    "        initial_state=initial_value)\n",
    "    \n",
    "    tool = SAG_RS(radius=sag_rs_radius, number_of_samples=sag_rs_number_of_samples)\n",
    "    tool.initialize(x=np.array(([0] * len(search_area))), f=f)\n",
    "    \n",
    "    optimal_control = tool.optimize_max_runtime(\n",
    "        f, \n",
    "        search_area, \n",
    "        max_seconds=working_time)\n",
    "    \n",
    "    df = make_dataframe(optimal_control)\n",
    "    \n",
    "    return df"
   ]
  },
  {
   "cell_type": "code",
   "execution_count": null,
   "metadata": {},
   "outputs": [],
   "source": [
    "pool = mp.Pool(mp.cpu_count())\n",
    "dataframes_1 = pool.map(calc_1, initials_1)\n",
    "pool.close()"
   ]
  },
  {
   "cell_type": "code",
   "execution_count": null,
   "metadata": {},
   "outputs": [],
   "source": [
    "dataframe_1 = pd.concat(dataframes_1, axis=0)\n",
    "dataframe_1.to_csv(\"results_1.csv\", index=False)"
   ]
  },
  {
   "cell_type": "code",
   "execution_count": null,
   "metadata": {},
   "outputs": [],
   "source": []
  },
  {
   "cell_type": "code",
   "execution_count": null,
   "metadata": {},
   "outputs": [],
   "source": []
  },
  {
   "cell_type": "code",
   "execution_count": null,
   "metadata": {},
   "outputs": [],
   "source": []
  },
  {
   "cell_type": "code",
   "execution_count": null,
   "metadata": {},
   "outputs": [],
   "source": []
  },
  {
   "cell_type": "code",
   "execution_count": null,
   "metadata": {},
   "outputs": [],
   "source": []
  },
  {
   "cell_type": "code",
   "execution_count": null,
   "metadata": {},
   "outputs": [],
   "source": []
  },
  {
   "cell_type": "code",
   "execution_count": null,
   "metadata": {},
   "outputs": [],
   "source": []
  },
  {
   "cell_type": "code",
   "execution_count": null,
   "metadata": {},
   "outputs": [],
   "source": []
  },
  {
   "cell_type": "code",
   "execution_count": null,
   "metadata": {},
   "outputs": [],
   "source": []
  },
  {
   "cell_type": "code",
   "execution_count": null,
   "metadata": {},
   "outputs": [],
   "source": []
  },
  {
   "cell_type": "code",
   "execution_count": null,
   "metadata": {},
   "outputs": [],
   "source": []
  },
  {
   "cell_type": "code",
   "execution_count": null,
   "metadata": {},
   "outputs": [],
   "source": []
  },
  {
   "cell_type": "code",
   "execution_count": null,
   "metadata": {},
   "outputs": [],
   "source": []
  },
  {
   "cell_type": "code",
   "execution_count": null,
   "metadata": {},
   "outputs": [],
   "source": []
  }
 ],
 "metadata": {
  "kernelspec": {
   "display_name": "Python 3",
   "language": "python",
   "name": "python3"
  },
  "language_info": {
   "codemirror_mode": {
    "name": "ipython",
    "version": 3
   },
   "file_extension": ".py",
   "mimetype": "text/x-python",
   "name": "python",
   "nbconvert_exporter": "python",
   "pygments_lexer": "ipython3",
   "version": "3.6.7"
  }
 },
 "nbformat": 4,
 "nbformat_minor": 2
}
