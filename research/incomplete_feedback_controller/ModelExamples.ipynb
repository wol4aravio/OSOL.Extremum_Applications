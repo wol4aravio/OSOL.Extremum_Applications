{
 "cells": [
  {
   "cell_type": "markdown",
   "metadata": {},
   "source": [
    "# Imports"
   ]
  },
  {
   "cell_type": "code",
   "execution_count": 1,
   "metadata": {},
   "outputs": [],
   "source": [
    "import json"
   ]
  },
  {
   "cell_type": "code",
   "execution_count": 2,
   "metadata": {},
   "outputs": [],
   "source": [
    "from collections import OrderedDict"
   ]
  },
  {
   "cell_type": "code",
   "execution_count": 3,
   "metadata": {},
   "outputs": [],
   "source": [
    "import multiprocessing as mp"
   ]
  },
  {
   "cell_type": "code",
   "execution_count": 4,
   "metadata": {},
   "outputs": [],
   "source": [
    "import numpy as np\n",
    "import pandas as pd\n",
    "\n",
    "from scipy.integrate import solve_ivp"
   ]
  },
  {
   "cell_type": "code",
   "execution_count": 5,
   "metadata": {},
   "outputs": [
    {
     "data": {
      "text/html": [
       "<script type=\"text/javascript\">window.PlotlyConfig = {MathJaxConfig: 'local'};</script><script type=\"text/javascript\">if (window.MathJax) {MathJax.Hub.Config({SVG: {font: \"STIX-Web\"}});}</script><script>requirejs.config({paths: { 'plotly': ['https://cdn.plot.ly/plotly-latest.min']},});if(!window._Plotly) {require(['plotly'],function(plotly) {window._Plotly=plotly;});}</script>"
      ],
      "text/vnd.plotly.v1+html": [
       "<script type=\"text/javascript\">window.PlotlyConfig = {MathJaxConfig: 'local'};</script><script type=\"text/javascript\">if (window.MathJax) {MathJax.Hub.Config({SVG: {font: \"STIX-Web\"}});}</script><script>requirejs.config({paths: { 'plotly': ['https://cdn.plot.ly/plotly-latest.min']},});if(!window._Plotly) {require(['plotly'],function(plotly) {window._Plotly=plotly;});}</script>"
      ]
     },
     "metadata": {},
     "output_type": "display_data"
    }
   ],
   "source": [
    "import plotly.graph_objs as go\n",
    "from plotly.offline import init_notebook_mode, plot, iplot\n",
    "\n",
    "init_notebook_mode(connected=True)"
   ]
  },
  {
   "cell_type": "markdown",
   "metadata": {},
   "source": [
    "# Model Imports"
   ]
  },
  {
   "cell_type": "code",
   "execution_count": 6,
   "metadata": {},
   "outputs": [],
   "source": [
    "from models import Model_1\n",
    "from models import Model_2\n",
    "from models import Model_3\n",
    "from models import Model_4"
   ]
  },
  {
   "cell_type": "markdown",
   "metadata": {},
   "source": [
    "# Auxiliary Functions"
   ]
  },
  {
   "cell_type": "code",
   "execution_count": 7,
   "metadata": {},
   "outputs": [],
   "source": [
    "from cybernetics.controls.piecewise_constant_controller import PiecewiseConstantController as PWC_Controller\n",
    "from cybernetics.controls.piecewise_linear_controller import PiecewiseLinearController as PWL_Controller"
   ]
  },
  {
   "cell_type": "code",
   "execution_count": 8,
   "metadata": {},
   "outputs": [],
   "source": [
    "def create_PWC(time_grid, control_settings):\n",
    "    return PWC_Controller(time_grid, control_settings, default_value=0.0)\n",
    "\n",
    "def create_PWL(time_grid, control_settings):\n",
    "    return PWL_Controller(time_grid, control_settings, default_value=0.0)"
   ]
  },
  {
   "cell_type": "code",
   "execution_count": 9,
   "metadata": {},
   "outputs": [],
   "source": [
    "def create_task(model_id, controller_type, n_dim, bound, initial_state):\n",
    "    if model_id == 1:\n",
    "        model = lambda control: Model_1(control)\n",
    "    elif model_id == 2:\n",
    "        model = lambda control: Model_2(control)\n",
    "    elif model_id == 3:\n",
    "        model = lambda control: Model_3(control)\n",
    "    elif model_id == 4:\n",
    "        model = lambda control: Model_4(control)\n",
    "    else:\n",
    "        raise Exception(f\"Unsupported model: {model_id}\")\n",
    "    \n",
    "    temp_model = model(None)\n",
    "    time_grid = np.linspace(temp_model.t0, temp_model.t1, n_dim + 1)\n",
    "    accurate_time_grid = np.linspace(temp_model.t0, temp_model.t1, 10 * n_dim + 1)\n",
    "    search_area = [(-bound, bound) for i in range(n_dim + int(controller_type == \"PWL\"))]\n",
    "    \n",
    "    if controller_type == \"PWC\":\n",
    "        controller = lambda control_settings: create_PWC(time_grid, control_settings)\n",
    "    elif controller_type == \"PWL\":\n",
    "        controller = lambda control_settings: create_PWL(time_grid, control_settings)\n",
    "    else:\n",
    "        raise Exception(f\"Unsupported controller type: {controller_type}\")\n",
    "    \n",
    "    def f(control_settings):\n",
    "        control = controller(control_settings)\n",
    "        m = model(control)\n",
    "        sol = m.calc_solution(initial_state)\n",
    "        return m.I(sol) + m.I_term(sol)\n",
    "    \n",
    "    def make_dataframe(control_settings):\n",
    "        control = controller(control_settings)\n",
    "        m = model(control)\n",
    "        sol = m.calc_solution(initial_state, accurate_time_grid)\n",
    "        controls = m.get_controls(sol)\n",
    "        \n",
    "        rows = list()\n",
    "        for t, y, u in list(zip(sol.t, sol.y[:-1, :].T, controls)):\n",
    "            o = OrderedDict(t=t)\n",
    "            for i, y_ in enumerate(initial_state):\n",
    "                o[f\"x{i + 1}_initial\"] = y_\n",
    "            for i, y_ in enumerate(y):\n",
    "                o[f\"x{i + 1}\"] = y_\n",
    "            o[\"u\"] = u\n",
    "            o[\"t\"] = t\n",
    "            rows.append(o)\n",
    "\n",
    "        df = pd.DataFrame(rows)\n",
    "        return df\n",
    "        \n",
    "    \n",
    "    return f, search_area, make_dataframe\n"
   ]
  },
  {
   "cell_type": "markdown",
   "metadata": {},
   "source": [
    "# Optimization Tool Parameters"
   ]
  },
  {
   "cell_type": "code",
   "execution_count": 10,
   "metadata": {},
   "outputs": [],
   "source": [
    "from osol.extremum.algorithms.statistical_anti_gradient_random_search import StatisticalAntiGradientRandomSearch as SAG_RS"
   ]
  },
  {
   "cell_type": "code",
   "execution_count": 11,
   "metadata": {},
   "outputs": [],
   "source": [
    "sag_rs_radius = 1.0\n",
    "sag_rs_number_of_samples = 17"
   ]
  },
  {
   "cell_type": "markdown",
   "metadata": {},
   "source": [
    "# Model Example №1"
   ]
  },
  {
   "cell_type": "markdown",
   "metadata": {},
   "source": [
    "## Dataframe Generation"
   ]
  },
  {
   "cell_type": "code",
   "execution_count": null,
   "metadata": {},
   "outputs": [],
   "source": [
    "initials_1 = [np.array([v]) for v in np.linspace(-25.0, 25.0, 51)]"
   ]
  },
  {
   "cell_type": "code",
   "execution_count": null,
   "metadata": {},
   "outputs": [],
   "source": [
    "def calc_1(initial_value):\n",
    "    n_dim = 10\n",
    "    bound = 100\n",
    "    working_time = 60 * 30\n",
    "    \n",
    "    f, search_area, make_dataframe = create_task(\n",
    "        model_id=1, \n",
    "        controller_type=\"PWL\", \n",
    "        n_dim=n_dim, \n",
    "        bound=bound,\n",
    "        initial_state=initial_value)\n",
    "    \n",
    "    tool = SAG_RS(radius=sag_rs_radius, number_of_samples=sag_rs_number_of_samples)\n",
    "    tool.initialize(x=np.array(([0] * len(search_area))), f=f)\n",
    "    \n",
    "    suboptimal_control = tool.optimize_max_runtime(\n",
    "        f, \n",
    "        search_area, \n",
    "        max_seconds=working_time)\n",
    "    \n",
    "    df = make_dataframe(suboptimal_control)\n",
    "    \n",
    "    return df, suboptimal_control"
   ]
  },
  {
   "cell_type": "code",
   "execution_count": null,
   "metadata": {},
   "outputs": [],
   "source": [
    "pool = mp.Pool(mp.cpu_count())\n",
    "dataframes_and_controls_1 = pool.map(calc_1, initials_1)\n",
    "pool.close()"
   ]
  },
  {
   "cell_type": "code",
   "execution_count": null,
   "metadata": {},
   "outputs": [],
   "source": [
    "dataframe_1 = pd.concat([d for d, _ in dataframes_and_controls_1], axis=0)\n",
    "dataframe_1.to_csv(\"results_1.csv\", index=False)\n",
    "\n",
    "with open(\"controls_1.json\", \"w\") as j:\n",
    "    controls = [\n",
    "        OrderedDict(\n",
    "            initial_state=i_s.tolist(), \n",
    "            control=c.tolist()) \n",
    "        for i_s, c in zip(initials_1, [c for _, c in dataframes_and_controls_1])]\n",
    "    json.dump(controls, j)"
   ]
  },
  {
   "cell_type": "markdown",
   "metadata": {},
   "source": [
    "## Verification of Results"
   ]
  },
  {
   "cell_type": "code",
   "execution_count": null,
   "metadata": {},
   "outputs": [],
   "source": [
    "dataframe_1 = pd.read_csv(\"results_1.csv\")\n",
    "with open(\"controls_1.json\", \"r\") as j:\n",
    "    controls = json.load(j)"
   ]
  },
  {
   "cell_type": "code",
   "execution_count": null,
   "metadata": {},
   "outputs": [],
   "source": [
    "initial_state = np.array([1.0])"
   ]
  },
  {
   "cell_type": "code",
   "execution_count": null,
   "metadata": {},
   "outputs": [],
   "source": [
    "optimal_model = Model_1()\n",
    "grid = np.linspace(optimal_model.t0, optimal_model.t1, num=101)"
   ]
  },
  {
   "cell_type": "code",
   "execution_count": null,
   "metadata": {},
   "outputs": [],
   "source": [
    "optimal_sol = optimal_model.calc_solution(initial_state, grid)\n",
    "optimal_control = optimal_model.get_controls(optimal_sol)"
   ]
  },
  {
   "cell_type": "code",
   "execution_count": null,
   "metadata": {},
   "outputs": [],
   "source": [
    "optimal_I = optimal_model.I(optimal_sol) + optimal_model.I_term(optimal_sol)"
   ]
  },
  {
   "cell_type": "code",
   "execution_count": null,
   "metadata": {},
   "outputs": [],
   "source": [
    "controller_settings = [d[\"control\"] for d in controls if d[\"initial_state\"] == initial_state][0]\n",
    "\n",
    "suboptimal_model = Model_1(\n",
    "    PWC_Controller(\n",
    "        time_grid=np.linspace(optimal_model.t0, optimal_model.t1, num=len(controller_settings)),\n",
    "        values=controller_settings, \n",
    "        default_value=0))"
   ]
  },
  {
   "cell_type": "code",
   "execution_count": null,
   "metadata": {},
   "outputs": [],
   "source": [
    "suboptimal_sol = suboptimal_model.calc_solution(initial_state, grid)\n",
    "suboptimal_control = suboptimal_model.get_controls(suboptimal_sol)"
   ]
  },
  {
   "cell_type": "code",
   "execution_count": null,
   "metadata": {},
   "outputs": [],
   "source": [
    "suboptimal_I = suboptimal_model.I(suboptimal_sol) + suboptimal_model.I_term(suboptimal_sol)"
   ]
  },
  {
   "cell_type": "code",
   "execution_count": null,
   "metadata": {},
   "outputs": [],
   "source": [
    "print(f\"Optimal I: {np.round(optimal_I, 5)}\")\n",
    "print(f\"Suboptimal I: {np.round(suboptimal_I, 5)}\")"
   ]
  },
  {
   "cell_type": "code",
   "execution_count": null,
   "metadata": {},
   "outputs": [],
   "source": [
    "fig_optimal_state = go.Scatter(\n",
    "    x=optimal_sol.t,\n",
    "    y=optimal_sol.y[0, :], \n",
    "    name=\"x1 - optimal\", \n",
    "    yaxis=\"y1\",\n",
    "    line=dict(color=\"black\"))\n",
    "\n",
    "query = dataframe_1.query(f\"x1_initial == {initial_state[0]}\")\n",
    "fig_suboptimal_state = go.Scatter(\n",
    "    x=query[\"t\"],\n",
    "    y=query[\"x1\"], \n",
    "    name=\"x1 - suboptimal\", \n",
    "    yaxis=\"y1\",\n",
    "    line=dict(color=\"black\", dash=\"dash\"))\n",
    "\n",
    "difference = query[\"x1\"] - optimal_sol.y[0, :]\n",
    "max_dif = np.abs(difference).max()\n",
    "fig_difference_state = go.Scatter(\n",
    "    x=optimal_sol.t,\n",
    "    y=difference,\n",
    "    name=\"difference\", \n",
    "    yaxis=\"y2\",\n",
    "    line=dict(color=\"black\", dash=\"dot\"))"
   ]
  },
  {
   "cell_type": "code",
   "execution_count": null,
   "metadata": {},
   "outputs": [],
   "source": [
    "iplot(\n",
    "    go.Figure(\n",
    "        data=[\n",
    "            fig_optimal_state,\n",
    "            fig_suboptimal_state,\n",
    "            fig_difference_state\n",
    "        ],\n",
    "        layout=go.Layout(\n",
    "            legend=dict(orientation=\"h\", x=0.1, y=1.1),\n",
    "            xaxis=dict(\n",
    "                range=(optimal_model.t0, optimal_model.t1)\n",
    "            ),\n",
    "            yaxis1=dict(\n",
    "                range=(-initial_state[0], initial_state[0])\n",
    "            ),\n",
    "            yaxis2=dict(\n",
    "                range=(-max_dif, max_dif),\n",
    "                overlaying=\"y1\",\n",
    "                side=\"right\"\n",
    "            )\n",
    "        )\n",
    "    )\n",
    ")"
   ]
  },
  {
   "cell_type": "code",
   "execution_count": null,
   "metadata": {},
   "outputs": [],
   "source": [
    "fig_optimal_control = go.Scatter(\n",
    "    x=optimal_sol.t,\n",
    "    y=optimal_control, \n",
    "    name=\"u - optimal\", \n",
    "    yaxis=\"y1\",\n",
    "    line=dict(color=\"black\"))\n",
    "\n",
    "query = dataframe_1.query(f\"x1_initial == {initial_state[0]}\")\n",
    "fig_suboptimal_control = go.Scatter(\n",
    "    x=query[\"t\"],\n",
    "    y=query[\"u\"], \n",
    "    name=\"u - suboptimal\", \n",
    "    yaxis=\"y1\",\n",
    "    line=dict(color=\"black\", dash=\"dash\"))\n",
    "\n",
    "difference = query[\"u\"] - optimal_control\n",
    "max_dif = np.abs(difference).max()\n",
    "fig_difference_control = go.Scatter(\n",
    "    x=optimal_sol.t,\n",
    "    y=difference,\n",
    "    name=\"difference\", \n",
    "    yaxis=\"y2\",\n",
    "    line=dict(color=\"black\", dash=\"dot\"))"
   ]
  },
  {
   "cell_type": "code",
   "execution_count": null,
   "metadata": {},
   "outputs": [],
   "source": [
    "iplot(\n",
    "    go.Figure(\n",
    "        data=[\n",
    "            fig_optimal_control,\n",
    "            fig_suboptimal_control,\n",
    "            fig_difference_control\n",
    "        ],\n",
    "        layout=go.Layout(\n",
    "            legend=dict(orientation=\"h\", x=0.1, y=1.1),\n",
    "            xaxis=dict(\n",
    "                range=(optimal_model.t0, optimal_model.t1)\n",
    "            ),\n",
    "            yaxis1=dict(\n",
    "                range=(-initial_state[0], initial_state[0])\n",
    "            ),\n",
    "            yaxis2=dict(\n",
    "                range=(-max_dif, max_dif),\n",
    "                overlaying=\"y1\",\n",
    "                side=\"right\"\n",
    "            )\n",
    "        )\n",
    "    )\n",
    ")"
   ]
  },
  {
   "cell_type": "markdown",
   "metadata": {},
   "source": [
    "# Model Example №2"
   ]
  },
  {
   "cell_type": "markdown",
   "metadata": {},
   "source": [
    "## Dataframe Generation"
   ]
  },
  {
   "cell_type": "code",
   "execution_count": null,
   "metadata": {},
   "outputs": [],
   "source": [
    "initials_2 = [np.array([v1, v2]) \n",
    "              for v1 in np.linspace(-25.0, 25.0, 26)\n",
    "              for v2 in np.linspace(-25.0, 25.0, 26)]"
   ]
  },
  {
   "cell_type": "code",
   "execution_count": null,
   "metadata": {},
   "outputs": [],
   "source": [
    "def calc_2(initial_value):\n",
    "    n_dim = 10\n",
    "    bound = 100\n",
    "    working_time = 60 * 25\n",
    "    \n",
    "    f, search_area, make_dataframe = create_task(\n",
    "        model_id=2, \n",
    "        controller_type=\"PWL\", \n",
    "        n_dim=n_dim, \n",
    "        bound=bound,\n",
    "        initial_state=initial_value)\n",
    "    \n",
    "    tool = SAG_RS(radius=sag_rs_radius, number_of_samples=sag_rs_number_of_samples)\n",
    "    tool.initialize(x=np.array(([0] * len(search_area))), f=f)\n",
    "    \n",
    "    suboptimal_control = tool.optimize_max_runtime(\n",
    "        f, \n",
    "        search_area, \n",
    "        max_seconds=working_time)\n",
    "    \n",
    "    df = make_dataframe(suboptimal_control)\n",
    "    \n",
    "    return df, suboptimal_control"
   ]
  },
  {
   "cell_type": "code",
   "execution_count": null,
   "metadata": {},
   "outputs": [],
   "source": [
    "pool = mp.Pool(mp.cpu_count())\n",
    "dataframes_and_controls_2 = pool.map(calc_2, initials_2)\n",
    "pool.close()"
   ]
  },
  {
   "cell_type": "code",
   "execution_count": null,
   "metadata": {},
   "outputs": [],
   "source": [
    "dataframe_2 = pd.concat([d for d, _ in dataframes_and_controls_2], axis=0)\n",
    "dataframe_2.to_csv(\"results_2.csv\", index=False)\n",
    "\n",
    "with open(\"controls_2.json\", \"w\") as j:\n",
    "    controls = [\n",
    "        OrderedDict(\n",
    "            initial_state=i_s.tolist(), \n",
    "            control=c.tolist()) \n",
    "        for i_s, c in zip(initials_2, [c for _, c in dataframes_and_controls_2])]\n",
    "    json.dump(controls, j)"
   ]
  },
  {
   "cell_type": "markdown",
   "metadata": {},
   "source": [
    "## Verification of Results"
   ]
  },
  {
   "cell_type": "code",
   "execution_count": null,
   "metadata": {},
   "outputs": [],
   "source": [
    "dataframe_2 = pd.read_csv(\"results_2.csv\")\n",
    "with open(\"controls_2.json\", \"r\") as j:\n",
    "    controls = json.load(j)"
   ]
  },
  {
   "cell_type": "code",
   "execution_count": null,
   "metadata": {},
   "outputs": [],
   "source": [
    "initial_state = np.array([7.0, -7.0])"
   ]
  },
  {
   "cell_type": "code",
   "execution_count": null,
   "metadata": {},
   "outputs": [],
   "source": [
    "optimal_model = Model_2()\n",
    "grid = np.linspace(optimal_model.t0, optimal_model.t1, num=101)"
   ]
  },
  {
   "cell_type": "code",
   "execution_count": null,
   "metadata": {},
   "outputs": [],
   "source": [
    "optimal_sol = optimal_model.calc_solution(initial_state, grid)\n",
    "optimal_control = optimal_model.get_controls(optimal_sol)"
   ]
  },
  {
   "cell_type": "code",
   "execution_count": null,
   "metadata": {},
   "outputs": [],
   "source": [
    "optimal_I = optimal_model.I(optimal_sol) + optimal_model.I_term(optimal_sol)"
   ]
  },
  {
   "cell_type": "code",
   "execution_count": null,
   "metadata": {},
   "outputs": [],
   "source": [
    "controller_settings = [d[\"control\"] for d in controls if d[\"initial_state\"] == initial_state.tolist()][0]\n",
    "\n",
    "suboptimal_model = Model_2(\n",
    "    PWC_Controller(\n",
    "        time_grid=np.linspace(optimal_model.t0, optimal_model.t1, num=len(controller_settings)),\n",
    "        values=controller_settings, \n",
    "        default_value=0))"
   ]
  },
  {
   "cell_type": "code",
   "execution_count": null,
   "metadata": {},
   "outputs": [],
   "source": [
    "suboptimal_sol = suboptimal_model.calc_solution(initial_state, grid)\n",
    "suboptimal_control = suboptimal_model.get_controls(suboptimal_sol)"
   ]
  },
  {
   "cell_type": "code",
   "execution_count": null,
   "metadata": {},
   "outputs": [],
   "source": [
    "suboptimal_I = suboptimal_model.I(suboptimal_sol) + suboptimal_model.I_term(suboptimal_sol)"
   ]
  },
  {
   "cell_type": "code",
   "execution_count": null,
   "metadata": {},
   "outputs": [],
   "source": [
    "print(f\"Optimal I: {np.round(optimal_I, 5)}\")\n",
    "print(f\"Suboptimal I: {np.round(suboptimal_I, 5)}\")"
   ]
  },
  {
   "cell_type": "code",
   "execution_count": null,
   "metadata": {},
   "outputs": [],
   "source": [
    "fig_optimal_state = go.Scatter(\n",
    "    x=optimal_sol.t,\n",
    "    y=optimal_sol.y[0, :], \n",
    "    name=\"x1 - optimal\", \n",
    "    yaxis=\"y1\",\n",
    "    line=dict(color=\"black\"))\n",
    "\n",
    "query = dataframe_2.query(f\"x1_initial == {initial_state[0]} and x2_initial == {initial_state[1]}\")\n",
    "fig_suboptimal_state = go.Scatter(\n",
    "    x=query[\"t\"],\n",
    "    y=query[\"x1\"], \n",
    "    name=\"x1 - suboptimal\", \n",
    "    yaxis=\"y1\",\n",
    "    line=dict(color=\"black\", dash=\"dash\"))\n",
    "\n",
    "difference = query[\"x1\"] - optimal_sol.y[0, :]\n",
    "max_dif = np.abs(difference).max()\n",
    "fig_difference_state = go.Scatter(\n",
    "    x=optimal_sol.t,\n",
    "    y=difference,\n",
    "    name=\"difference\", \n",
    "    yaxis=\"y2\",\n",
    "    line=dict(color=\"black\", dash=\"dot\"))"
   ]
  },
  {
   "cell_type": "code",
   "execution_count": null,
   "metadata": {},
   "outputs": [],
   "source": [
    "iplot(\n",
    "    go.Figure(\n",
    "        data=[\n",
    "            fig_optimal_state,\n",
    "            fig_suboptimal_state,\n",
    "            fig_difference_state\n",
    "        ],\n",
    "        layout=go.Layout(\n",
    "            legend=dict(orientation=\"h\", x=0.1, y=1.1),\n",
    "            xaxis=dict(\n",
    "                range=(optimal_model.t0, optimal_model.t1)\n",
    "            ),\n",
    "            yaxis1=dict(\n",
    "                range=(-initial_state[0], initial_state[0])\n",
    "            ),\n",
    "            yaxis2=dict(\n",
    "                range=(-max_dif, max_dif),\n",
    "                overlaying=\"y1\",\n",
    "                side=\"right\"\n",
    "            )\n",
    "        )\n",
    "    )\n",
    ")"
   ]
  },
  {
   "cell_type": "code",
   "execution_count": null,
   "metadata": {},
   "outputs": [],
   "source": [
    "fig_optimal_state = go.Scatter(\n",
    "    x=optimal_sol.t,\n",
    "    y=optimal_sol.y[1, :], \n",
    "    name=\"x2 - optimal\", \n",
    "    yaxis=\"y1\",\n",
    "    line=dict(color=\"black\"))\n",
    "\n",
    "query = dataframe_2.query(f\"x1_initial == {initial_state[0]} and x2_initial == {initial_state[1]}\")\n",
    "fig_suboptimal_state = go.Scatter(\n",
    "    x=query[\"t\"],\n",
    "    y=query[\"x2\"], \n",
    "    name=\"x2 - suboptimal\", \n",
    "    yaxis=\"y1\",\n",
    "    line=dict(color=\"black\", dash=\"dash\"))\n",
    "\n",
    "difference = query[\"x1\"] - optimal_sol.y[0, :]\n",
    "max_dif = np.abs(difference).max()\n",
    "fig_difference_state = go.Scatter(\n",
    "    x=optimal_sol.t,\n",
    "    y=difference,\n",
    "    name=\"difference\", \n",
    "    yaxis=\"y2\",\n",
    "    line=dict(color=\"black\", dash=\"dot\"))"
   ]
  },
  {
   "cell_type": "code",
   "execution_count": null,
   "metadata": {},
   "outputs": [],
   "source": [
    "iplot(\n",
    "    go.Figure(\n",
    "        data=[\n",
    "            fig_optimal_state,\n",
    "            fig_suboptimal_state,\n",
    "            fig_difference_state\n",
    "        ],\n",
    "        layout=go.Layout(\n",
    "            legend=dict(orientation=\"h\", x=0.1, y=1.1),\n",
    "            xaxis=dict(\n",
    "                range=(optimal_model.t0, optimal_model.t1)\n",
    "            ),\n",
    "            yaxis1=dict(\n",
    "                range=(-7, 7)\n",
    "            ),\n",
    "            yaxis2=dict(\n",
    "                range=(-max_dif, max_dif),\n",
    "                overlaying=\"y1\",\n",
    "                side=\"right\"\n",
    "            )\n",
    "        )\n",
    "    )\n",
    ")"
   ]
  },
  {
   "cell_type": "code",
   "execution_count": null,
   "metadata": {},
   "outputs": [],
   "source": [
    "fig_optimal_control = go.Scatter(\n",
    "    x=optimal_sol.t,\n",
    "    y=optimal_control, \n",
    "    name=\"u - optimal\", \n",
    "    yaxis=\"y1\",\n",
    "    line=dict(color=\"black\"))\n",
    "\n",
    "query = dataframe_2.query(f\"x1_initial == {initial_state[0]} and x2_initial == {initial_state[1]}\")\n",
    "fig_suboptimal_control = go.Scatter(\n",
    "    x=query[\"t\"],\n",
    "    y=query[\"u\"], \n",
    "    name=\"u - suboptimal\", \n",
    "    yaxis=\"y1\",\n",
    "    line=dict(color=\"black\", dash=\"dash\"))\n",
    "\n",
    "difference = query[\"u\"] - optimal_control\n",
    "max_dif = np.abs(difference).max()\n",
    "fig_difference_control = go.Scatter(\n",
    "    x=optimal_sol.t,\n",
    "    y=difference,\n",
    "    name=\"difference\", \n",
    "    yaxis=\"y2\",\n",
    "    line=dict(color=\"black\", dash=\"dot\"))"
   ]
  },
  {
   "cell_type": "code",
   "execution_count": null,
   "metadata": {},
   "outputs": [],
   "source": [
    "iplot(\n",
    "    go.Figure(\n",
    "        data=[\n",
    "            fig_optimal_control,\n",
    "            fig_suboptimal_control,\n",
    "            fig_difference_control\n",
    "        ],\n",
    "        layout=go.Layout(\n",
    "            legend=dict(orientation=\"h\", x=0.1, y=1.1),\n",
    "            xaxis=dict(\n",
    "                range=(optimal_model.t0, optimal_model.t1)\n",
    "            ),\n",
    "            yaxis1=dict(\n",
    "                range=(-7, 7)\n",
    "            ),\n",
    "            yaxis2=dict(\n",
    "                range=(-max_dif, max_dif),\n",
    "                overlaying=\"y1\",\n",
    "                side=\"right\"\n",
    "            )\n",
    "        )\n",
    "    )\n",
    ")"
   ]
  },
  {
   "cell_type": "markdown",
   "metadata": {},
   "source": [
    "# Model Example №3"
   ]
  },
  {
   "cell_type": "markdown",
   "metadata": {},
   "source": [
    "## Dataframe Generation"
   ]
  },
  {
   "cell_type": "code",
   "execution_count": null,
   "metadata": {},
   "outputs": [],
   "source": [
    "initials_3 = [np.array([v]) for v in np.linspace(-25.0, 25.0, 51)]"
   ]
  },
  {
   "cell_type": "code",
   "execution_count": null,
   "metadata": {},
   "outputs": [],
   "source": [
    "def calc_3(initial_value):\n",
    "    n_dim = 100\n",
    "    bound = 1\n",
    "    working_time = 60 * 30\n",
    "    \n",
    "    f, search_area, make_dataframe = create_task(\n",
    "        model_id=3, \n",
    "        controller_type=\"PWC\", \n",
    "        n_dim=n_dim, \n",
    "        bound=bound,\n",
    "        initial_state=initial_value)\n",
    "    \n",
    "    tool = SAG_RS(radius=sag_rs_radius, number_of_samples=sag_rs_number_of_samples)\n",
    "    tool.initialize(x=np.array(([0] * len(search_area))), f=f)\n",
    "    \n",
    "    suboptimal_control = tool.optimize_max_runtime(\n",
    "        f, \n",
    "        search_area, \n",
    "        max_seconds=working_time)\n",
    "    \n",
    "    df = make_dataframe(suboptimal_control)\n",
    "    \n",
    "    return df, suboptimal_control"
   ]
  },
  {
   "cell_type": "code",
   "execution_count": null,
   "metadata": {},
   "outputs": [],
   "source": [
    "pool = mp.Pool(mp.cpu_count())\n",
    "dataframes_and_controls_3 = pool.map(calc_3, initials_3)\n",
    "pool.close()"
   ]
  },
  {
   "cell_type": "code",
   "execution_count": null,
   "metadata": {},
   "outputs": [],
   "source": [
    "dataframe_3 = pd.concat([d for d, _ in dataframes_and_controls_3], axis=0)\n",
    "dataframe_3.to_csv(\"results_3.csv\", index=False)\n",
    "\n",
    "with open(\"controls_3.json\", \"w\") as j:\n",
    "    controls = [\n",
    "        OrderedDict(\n",
    "            initial_state=i_s.tolist(), \n",
    "            control=c.tolist()) \n",
    "        for i_s, c in zip(initials_3, [c for _, c in dataframes_and_controls_3])]\n",
    "    json.dump(controls, j)"
   ]
  },
  {
   "cell_type": "markdown",
   "metadata": {},
   "source": [
    "## Verification of Results"
   ]
  },
  {
   "cell_type": "code",
   "execution_count": null,
   "metadata": {},
   "outputs": [],
   "source": [
    "dataframe_3 = pd.read_csv(\"results_3.csv\")\n",
    "with open(\"controls_3.json\", \"r\") as j:\n",
    "    controls = json.load(j)"
   ]
  },
  {
   "cell_type": "code",
   "execution_count": null,
   "metadata": {},
   "outputs": [],
   "source": [
    "initial_state = np.array([-10.0])"
   ]
  },
  {
   "cell_type": "code",
   "execution_count": null,
   "metadata": {},
   "outputs": [],
   "source": [
    "optimal_model = Model_3()\n",
    "grid = np.linspace(optimal_model.t0, optimal_model.t1, num=1001)"
   ]
  },
  {
   "cell_type": "code",
   "execution_count": null,
   "metadata": {},
   "outputs": [],
   "source": [
    "optimal_sol = optimal_model.calc_solution(initial_state, grid)\n",
    "optimal_control = optimal_model.get_controls(optimal_sol)"
   ]
  },
  {
   "cell_type": "code",
   "execution_count": null,
   "metadata": {},
   "outputs": [],
   "source": [
    "optimal_I = optimal_model.I(optimal_sol) + optimal_model.I_term(optimal_sol)"
   ]
  },
  {
   "cell_type": "code",
   "execution_count": null,
   "metadata": {},
   "outputs": [],
   "source": [
    "u = PWC_Controller(\n",
    "        time_grid=np.linspace(optimal_model.t0, optimal_model.t1, num=len(controller_settings)),\n",
    "        values=controller_settings, \n",
    "        default_value=0)"
   ]
  },
  {
   "cell_type": "code",
   "execution_count": null,
   "metadata": {},
   "outputs": [],
   "source": [
    "controller_settings = [d[\"control\"] for d in controls if d[\"initial_state\"] == initial_state][0]\n",
    "\n",
    "suboptimal_model = Model_3(\n",
    "    PWC_Controller(\n",
    "        time_grid=np.linspace(optimal_model.t0, optimal_model.t1, num=len(controller_settings)),\n",
    "        values=controller_settings, \n",
    "        default_value=0))"
   ]
  },
  {
   "cell_type": "code",
   "execution_count": null,
   "metadata": {},
   "outputs": [],
   "source": [
    "suboptimal_sol = suboptimal_model.calc_solution(initial_state, grid)\n",
    "suboptimal_control = suboptimal_model.get_controls(suboptimal_sol)"
   ]
  },
  {
   "cell_type": "code",
   "execution_count": null,
   "metadata": {},
   "outputs": [],
   "source": [
    "suboptimal_I = suboptimal_model.I(suboptimal_sol) + suboptimal_model.I_term(suboptimal_sol)"
   ]
  },
  {
   "cell_type": "code",
   "execution_count": null,
   "metadata": {},
   "outputs": [],
   "source": [
    "print(f\"Optimal I: {np.round(optimal_I, 5)}\")\n",
    "print(f\"Suboptimal I: {np.round(suboptimal_I, 5)}\")"
   ]
  },
  {
   "cell_type": "code",
   "execution_count": null,
   "metadata": {},
   "outputs": [],
   "source": [
    "fig_optimal_state = go.Scatter(\n",
    "    x=optimal_sol.t,\n",
    "    y=optimal_sol.y[0, :], \n",
    "    name=\"x1 - optimal\", \n",
    "    yaxis=\"y1\",\n",
    "    line=dict(color=\"black\"))\n",
    "\n",
    "fig_suboptimal_state = go.Scatter(\n",
    "    x=suboptimal_sol.t,\n",
    "    y=suboptimal_sol.y[0, :],\n",
    "    name=\"x1 - suboptimal\", \n",
    "    yaxis=\"y1\",\n",
    "    line=dict(color=\"black\", dash=\"dash\"))"
   ]
  },
  {
   "cell_type": "code",
   "execution_count": null,
   "metadata": {},
   "outputs": [],
   "source": [
    "iplot(\n",
    "    go.Figure(\n",
    "        data=[\n",
    "            fig_optimal_state,\n",
    "            fig_suboptimal_state\n",
    "        ],\n",
    "        layout=go.Layout(\n",
    "            legend=dict(orientation=\"h\", x=0.1, y=1.1),\n",
    "            xaxis=dict(\n",
    "                range=(optimal_model.t0, max(optimal_sol.t.max(), suboptimal_sol.t.max()))\n",
    "            )\n",
    "        )\n",
    "    )\n",
    ")"
   ]
  },
  {
   "cell_type": "code",
   "execution_count": null,
   "metadata": {},
   "outputs": [],
   "source": [
    "fig_optimal_control = go.Scatter(\n",
    "    x=optimal_sol.t,\n",
    "    y=optimal_control, \n",
    "    name=\"u - optimal\", \n",
    "    yaxis=\"y1\",\n",
    "    line=dict(color=\"black\"))\n",
    "\n",
    "fig_suboptimal_control = go.Scatter(\n",
    "    x=suboptimal_sol.t,\n",
    "    y=suboptimal_control, \n",
    "    name=\"u - suboptimal\", \n",
    "    yaxis=\"y1\",\n",
    "    line=dict(color=\"black\", dash=\"dash\"))"
   ]
  },
  {
   "cell_type": "code",
   "execution_count": null,
   "metadata": {},
   "outputs": [],
   "source": [
    "iplot(\n",
    "    go.Figure(\n",
    "        data=[\n",
    "            fig_optimal_control,\n",
    "            fig_suboptimal_control\n",
    "        ],\n",
    "        layout=go.Layout(\n",
    "            legend=dict(orientation=\"h\", x=0.1, y=1.1),\n",
    "            xaxis=dict(\n",
    "                range=(optimal_model.t0, max(optimal_sol.t.max(), query[\"t\"].max()))\n",
    "            ),\n",
    "            yaxis=dict(\n",
    "                range=(-1, 1)\n",
    "            )\n",
    "        )\n",
    "    )\n",
    ")"
   ]
  },
  {
   "cell_type": "markdown",
   "metadata": {},
   "source": [
    "# Model Example №4"
   ]
  },
  {
   "cell_type": "markdown",
   "metadata": {},
   "source": [
    "## Dataset Generation"
   ]
  },
  {
   "cell_type": "code",
   "execution_count": null,
   "metadata": {},
   "outputs": [],
   "source": [
    "initials_4 = [\n",
    "    np.array([v1, v2]) \n",
    "    for v1 in np.linspace(-25.0, 25.0, 26)\n",
    "    for v2 in np.linspace(-25.0, 25.0, 26)]"
   ]
  },
  {
   "cell_type": "code",
   "execution_count": 12,
   "metadata": {},
   "outputs": [],
   "source": [
    "def calc_4(initial_value):\n",
    "    n_dim = 100\n",
    "    bound = 1\n",
    "    working_time = 60 * 5\n",
    "    \n",
    "    f, search_area, make_dataframe = create_task(\n",
    "        model_id=4, \n",
    "        controller_type=\"PWC\", \n",
    "        n_dim=n_dim, \n",
    "        bound=bound,\n",
    "        initial_state=initial_value)\n",
    "    \n",
    "    tool = SAG_RS(radius=sag_rs_radius, number_of_samples=sag_rs_number_of_samples)\n",
    "    tool.initialize(x=np.array(([0] * len(search_area))), f=f)\n",
    "    \n",
    "    suboptimal_control = tool.optimize_max_runtime(\n",
    "        f, \n",
    "        search_area, \n",
    "        max_seconds=working_time)\n",
    "    \n",
    "    df = make_dataframe(suboptimal_control)\n",
    "    \n",
    "    return df, suboptimal_control"
   ]
  },
  {
   "cell_type": "code",
   "execution_count": 13,
   "metadata": {},
   "outputs": [],
   "source": [
    "res = calc_4(np.array([5.0, 5.0]))"
   ]
  },
  {
   "cell_type": "code",
   "execution_count": null,
   "metadata": {},
   "outputs": [],
   "source": []
  },
  {
   "cell_type": "code",
   "execution_count": 14,
   "metadata": {},
   "outputs": [],
   "source": [
    "m = Model_4(PWC_Controller(\n",
    "    np.linspace(0, 100, 101),\n",
    "    res[1], 0.0\n",
    "))"
   ]
  },
  {
   "cell_type": "code",
   "execution_count": 15,
   "metadata": {},
   "outputs": [
    {
     "data": {
      "text/plain": [
       "  message: 'The solver successfully reached the end of the integration interval.'\n",
       "     nfev: 728\n",
       "     njev: 0\n",
       "      nlu: 0\n",
       "      sol: <scipy.integrate._ivp.common.OdeSolution object at 0x7fd2823559e8>\n",
       "   status: 0\n",
       "  success: True\n",
       "        t: array([  0. ,   0.1,   0.2, ...,  99.8,  99.9, 100. ])\n",
       " t_events: [array([], dtype=float64)]\n",
       "        y: array([[  5.        ,   5.49855316,   5.99416312, ...,   0.69754767,\n",
       "          0.5713785 ,   0.44478351],\n",
       "       [  5.        ,   4.97106323,   4.94178355, ...,  -1.26650581,\n",
       "         -1.26812159,  -1.26890061],\n",
       "       [  0.        ,   0.1       ,   0.2       , ...,  99.8       ,\n",
       "         99.9       , 100.        ]])"
      ]
     },
     "execution_count": 15,
     "metadata": {},
     "output_type": "execute_result"
    }
   ],
   "source": [
    "sol = m.calc_solution(np.array([5.0, 5.0]), np.linspace(0, 100, 1001))\n",
    "sol"
   ]
  },
  {
   "cell_type": "code",
   "execution_count": 16,
   "metadata": {},
   "outputs": [
    {
     "data": {
      "text/plain": [
       "array([[  0.69754767,   0.5713785 ,   0.44478351],\n",
       "       [ -1.26650581,  -1.26812159,  -1.26890061],\n",
       "       [ 99.8       ,  99.9       , 100.        ]])"
      ]
     },
     "execution_count": 16,
     "metadata": {},
     "output_type": "execute_result"
    }
   ],
   "source": [
    "sol.y[:, -3:]"
   ]
  },
  {
   "cell_type": "code",
   "execution_count": null,
   "metadata": {},
   "outputs": [],
   "source": []
  },
  {
   "cell_type": "code",
   "execution_count": null,
   "metadata": {},
   "outputs": [],
   "source": []
  },
  {
   "cell_type": "code",
   "execution_count": null,
   "metadata": {},
   "outputs": [],
   "source": []
  },
  {
   "cell_type": "code",
   "execution_count": null,
   "metadata": {},
   "outputs": [],
   "source": []
  },
  {
   "cell_type": "code",
   "execution_count": null,
   "metadata": {},
   "outputs": [],
   "source": [
    "pool = mp.Pool(mp.cpu_count())\n",
    "dataframes_and_controls_4 = pool.map(calc_4, initials_4)\n",
    "pool.close()"
   ]
  },
  {
   "cell_type": "code",
   "execution_count": null,
   "metadata": {},
   "outputs": [],
   "source": [
    "dataframe_4 = pd.concat([d for d, _ in dataframes_and_controls_4], axis=0)\n",
    "dataframe_4.to_csv(\"results_4.csv\", index=False)\n",
    "\n",
    "with open(\"controls_4.json\", \"w\") as j:\n",
    "    controls = [\n",
    "        OrderedDict(\n",
    "            initial_state=i_s.tolist(), \n",
    "            control=c.tolist()) \n",
    "        for i_s, c in zip(initials_4, [c for _, c in dataframes_and_controls_4])]\n",
    "    json.dump(controls, j)"
   ]
  },
  {
   "cell_type": "code",
   "execution_count": null,
   "metadata": {},
   "outputs": [],
   "source": []
  },
  {
   "cell_type": "code",
   "execution_count": null,
   "metadata": {},
   "outputs": [],
   "source": []
  },
  {
   "cell_type": "code",
   "execution_count": null,
   "metadata": {},
   "outputs": [],
   "source": []
  },
  {
   "cell_type": "code",
   "execution_count": null,
   "metadata": {},
   "outputs": [],
   "source": []
  },
  {
   "cell_type": "code",
   "execution_count": null,
   "metadata": {},
   "outputs": [],
   "source": []
  },
  {
   "cell_type": "code",
   "execution_count": null,
   "metadata": {},
   "outputs": [],
   "source": []
  },
  {
   "cell_type": "code",
   "execution_count": null,
   "metadata": {},
   "outputs": [],
   "source": []
  },
  {
   "cell_type": "code",
   "execution_count": null,
   "metadata": {},
   "outputs": [],
   "source": []
  },
  {
   "cell_type": "code",
   "execution_count": null,
   "metadata": {},
   "outputs": [],
   "source": []
  }
 ],
 "metadata": {
  "kernelspec": {
   "display_name": "Python 3",
   "language": "python",
   "name": "python3"
  },
  "language_info": {
   "codemirror_mode": {
    "name": "ipython",
    "version": 3
   },
   "file_extension": ".py",
   "mimetype": "text/x-python",
   "name": "python",
   "nbconvert_exporter": "python",
   "pygments_lexer": "ipython3",
   "version": "3.6.7"
  }
 },
 "nbformat": 4,
 "nbformat_minor": 2
}
